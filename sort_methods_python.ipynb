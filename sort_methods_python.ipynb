{
  "cells": [
    {
      "cell_type": "markdown",
      "metadata": {
        "id": "view-in-github",
        "colab_type": "text"
      },
      "source": [
        "<a href=\"https://colab.research.google.com/github/johcue/computational_complexity-/blob/main/sort_methods_python.ipynb\" target=\"_parent\"><img src=\"https://colab.research.google.com/assets/colab-badge.svg\" alt=\"Open In Colab\"/></a>"
      ]
    },
    {
      "cell_type": "code",
      "execution_count": null,
      "metadata": {
        "id": "GG3d8Amuben5"
      },
      "outputs": [],
      "source": [
        "import pandas as pd\n",
        "import numpy as np\n",
        "import sys"
      ]
    },
    {
      "cell_type": "code",
      "source": [
        "!pip install ipython-autotime\n",
        "%load_ext autotime"
      ],
      "metadata": {
        "id": "W5A0We3u5_f2",
        "colab": {
          "base_uri": "https://localhost:8080/"
        },
        "outputId": "c409b31d-c5ca-498a-bb16-5182d7dd7d73"
      },
      "execution_count": null,
      "outputs": [
        {
          "output_type": "stream",
          "name": "stdout",
          "text": [
            "Looking in indexes: https://pypi.org/simple, https://us-python.pkg.dev/colab-wheels/public/simple/\n",
            "Collecting ipython-autotime\n",
            "  Downloading ipython_autotime-0.3.1-py2.py3-none-any.whl (6.8 kB)\n",
            "Requirement already satisfied: ipython in /usr/local/lib/python3.9/dist-packages (from ipython-autotime) (7.34.0)\n",
            "Requirement already satisfied: pickleshare in /usr/local/lib/python3.9/dist-packages (from ipython->ipython-autotime) (0.7.5)\n",
            "Requirement already satisfied: backcall in /usr/local/lib/python3.9/dist-packages (from ipython->ipython-autotime) (0.2.0)\n",
            "Requirement already satisfied: pexpect>4.3 in /usr/local/lib/python3.9/dist-packages (from ipython->ipython-autotime) (4.8.0)\n",
            "Requirement already satisfied: traitlets>=4.2 in /usr/local/lib/python3.9/dist-packages (from ipython->ipython-autotime) (5.7.1)\n",
            "Requirement already satisfied: setuptools>=18.5 in /usr/local/lib/python3.9/dist-packages (from ipython->ipython-autotime) (67.6.1)\n",
            "Requirement already satisfied: matplotlib-inline in /usr/local/lib/python3.9/dist-packages (from ipython->ipython-autotime) (0.1.6)\n",
            "Requirement already satisfied: prompt-toolkit!=3.0.0,!=3.0.1,<3.1.0,>=2.0.0 in /usr/local/lib/python3.9/dist-packages (from ipython->ipython-autotime) (3.0.38)\n",
            "Requirement already satisfied: pygments in /usr/local/lib/python3.9/dist-packages (from ipython->ipython-autotime) (2.14.0)\n",
            "Requirement already satisfied: decorator in /usr/local/lib/python3.9/dist-packages (from ipython->ipython-autotime) (4.4.2)\n",
            "Collecting jedi>=0.16\n",
            "  Downloading jedi-0.18.2-py2.py3-none-any.whl (1.6 MB)\n",
            "\u001b[2K     \u001b[90m━━━━━━━━━━━━━━━━━━━━━━━━━━━━━━━━━━━━━━━━\u001b[0m \u001b[32m1.6/1.6 MB\u001b[0m \u001b[31m20.6 MB/s\u001b[0m eta \u001b[36m0:00:00\u001b[0m\n",
            "\u001b[?25hRequirement already satisfied: parso<0.9.0,>=0.8.0 in /usr/local/lib/python3.9/dist-packages (from jedi>=0.16->ipython->ipython-autotime) (0.8.3)\n",
            "Requirement already satisfied: ptyprocess>=0.5 in /usr/local/lib/python3.9/dist-packages (from pexpect>4.3->ipython->ipython-autotime) (0.7.0)\n",
            "Requirement already satisfied: wcwidth in /usr/local/lib/python3.9/dist-packages (from prompt-toolkit!=3.0.0,!=3.0.1,<3.1.0,>=2.0.0->ipython->ipython-autotime) (0.2.6)\n",
            "Installing collected packages: jedi, ipython-autotime\n",
            "Successfully installed ipython-autotime-0.3.1 jedi-0.18.2\n",
            "time: 371 µs (started: 2023-04-17 23:50:50 +00:00)\n"
          ]
        }
      ]
    },
    {
      "cell_type": "code",
      "source": [
        "# SACAMOS LOS VECTORES\n",
        "a = np.random.randint(0,10000000,1000000)\n",
        "#np.savetxt(\"num_1000000.csv\", a, delimiter=\",\") "
      ],
      "metadata": {
        "id": "KZZC_ifXPT0J",
        "colab": {
          "base_uri": "https://localhost:8080/"
        },
        "outputId": "fe69dd12-669a-4fe2-8d43-54bdafdd94f0"
      },
      "execution_count": null,
      "outputs": [
        {
          "output_type": "stream",
          "name": "stdout",
          "text": [
            "time: 32.2 ms (started: 2023-04-17 20:11:05 +00:00)\n"
          ]
        }
      ]
    },
    {
      "cell_type": "code",
      "execution_count": null,
      "metadata": {
        "id": "Xu-kQtiydDqo",
        "colab": {
          "base_uri": "https://localhost:8080/"
        },
        "outputId": "a297bd58-e9c5-4b11-a99e-d7e8809ad427"
      },
      "outputs": [
        {
          "output_type": "stream",
          "name": "stdout",
          "text": [
            "time: 88.4 ms (started: 2023-04-17 23:50:55 +00:00)\n"
          ]
        }
      ],
      "source": [
        "## Get Data from GITHUB\n",
        "## NO VAYAN A ABRIR LOS CSV, SE PUEDEN TIRAR EL PC\n",
        "from typing_extensions import dataclass_transform\n",
        "df = pd.read_csv('https://raw.githubusercontent.com/johcue/computational_complexity-/main/num_1e6.csv',sep=',')\n",
        "data = df['num'].to_numpy()\n",
        "data = np.transpose(data)\n",
        "size = len(data)\n",
        "##print(data)"
      ]
    },
    {
      "cell_type": "code",
      "source": [
        "## REESCRIBIMOS EL TIEMPO DE RECURSION DEFAULT DE PYTHON\n",
        "sys.setrecursionlimit(10000)"
      ],
      "metadata": {
        "id": "6ylp9PpfwS0g",
        "colab": {
          "base_uri": "https://localhost:8080/"
        },
        "outputId": "97bc313e-5e57-48c3-a331-7e1801434b2f"
      },
      "execution_count": null,
      "outputs": [
        {
          "output_type": "stream",
          "name": "stdout",
          "text": [
            "time: 472 µs (started: 2023-04-17 23:50:56 +00:00)\n"
          ]
        }
      ]
    },
    {
      "cell_type": "markdown",
      "metadata": {
        "id": "Mh8Tb1uSfgwP"
      },
      "source": [
        "## Selection Sort\n",
        "Selection sort method found [here](https://www.programiz.com/dsa/quick-sort)"
      ]
    },
    {
      "cell_type": "code",
      "execution_count": null,
      "metadata": {
        "colab": {
          "base_uri": "https://localhost:8080/"
        },
        "id": "By2qj3tKc3x8",
        "outputId": "57b9bdf9-b74d-4a30-817c-5e292d54388d"
      },
      "outputs": [
        {
          "output_type": "stream",
          "name": "stdout",
          "text": [
            "Sorted Array in Ascending Order:\n",
            "[   116    183    251 ... 999709 999903 999972]\n",
            "time: 10.7 s (started: 2023-04-17 23:46:15 +00:00)\n"
          ]
        }
      ],
      "source": [
        "#Selection Sort\n",
        "def selectionSort(array, size):\n",
        "   \n",
        "    for step in range(size):\n",
        "        min_idx = step\n",
        "\n",
        "        for i in range(step + 1, size):\n",
        "         \n",
        "            # to sort in descending order, change > to < in this line\n",
        "            # select the minimum element in each loop\n",
        "            if array[i] < array[min_idx]:\n",
        "                min_idx = i\n",
        "         \n",
        "        # put min at the correct position\n",
        "        (array[step], array[min_idx]) = (array[min_idx], array[step])\n",
        "\n",
        "selectionSort(data, size)\n",
        "print('Sorted Array in Ascending Order:')\n",
        "print(data)"
      ]
    },
    {
      "cell_type": "code",
      "execution_count": null,
      "metadata": {
        "colab": {
          "base_uri": "https://localhost:8080/"
        },
        "id": "zctwzH9xdSIa",
        "outputId": "73d663fa-852b-4933-c446-a0d61ea09964"
      },
      "outputs": [
        {
          "output_type": "stream",
          "name": "stdout",
          "text": [
            "time: 789 µs (started: 2023-04-17 23:51:17 +00:00)\n"
          ]
        }
      ],
      "source": [
        "# Quick sort in Python\n",
        "\n",
        "# Function to find the partition position\n",
        "def partition(array, low, high):\n",
        " \n",
        "    # choose the rightmost element as pivot\n",
        "    pivot = array[high]\n",
        " \n",
        "    # pointer for greater element\n",
        "    i = low - 1\n",
        " \n",
        "    # traverse through all elements\n",
        "    # compare each element with pivot\n",
        "    for j in range(low, high):\n",
        "        if array[j] <= pivot:\n",
        " \n",
        "            # If element smaller than pivot is found\n",
        "            # swap it with the greater element pointed by i\n",
        "            i = i + 1\n",
        " \n",
        "            # Swapping element at i with element at j\n",
        "            (array[i], array[j]) = (array[j], array[i])\n",
        " \n",
        "    # Swap the pivot element with the greater element specified by i\n",
        "    (array[i + 1], array[high]) = (array[high], array[i + 1])\n",
        " \n",
        "    # Return the position from where partition is done\n",
        "    return i + 1\n",
        " \n",
        "# function to perform quicksort\n",
        " \n",
        " \n",
        "def quickSort(array, low, high):\n",
        "    if low < high:\n",
        " \n",
        "        # Find pivot element such that\n",
        "        # element smaller than pivot are on the left\n",
        "        # element greater than pivot are on the right\n",
        "        pi = partition(array, low, high)\n",
        " \n",
        "        # Recursive call on the left of pivot\n",
        "        quickSort(array, low, pi - 1)\n",
        " \n",
        "        # Recursive call on the right of pivot\n",
        "        quickSort(array, pi + 1, high) "
      ]
    },
    {
      "cell_type": "code",
      "source": [
        "quickSort(data, 0, size - 1)\n",
        "print('Sorted Array in Ascending Order:')\n",
        "print(data)"
      ],
      "metadata": {
        "id": "CM3qdAI0w17g",
        "colab": {
          "base_uri": "https://localhost:8080/"
        },
        "outputId": "da959421-409e-4f1f-8e4c-e34c1e82c229"
      },
      "execution_count": null,
      "outputs": [
        {
          "output_type": "stream",
          "name": "stdout",
          "text": [
            "Sorted Array in Ascending Order:\n",
            "[   116    183    251 ... 999709 999903 999972]\n",
            "time: 63.8 ms (started: 2023-04-17 23:51:21 +00:00)\n"
          ]
        }
      ]
    },
    {
      "cell_type": "code",
      "source": [
        "1 def seleccionSort(array, size):\n",
        "2  # Funcion que Ordena de forma descendente un vector\n",
        "3  # Para ordenar de forma Ascendente cambiar > a < en linea 9\n",
        "4\n",
        "5    for paso in range(size):\n",
        "6        min_idx = paso\n",
        "7        for i in range(paso + 1, size):\n",
        "8            # Selecciona el menor en cada loop\n",
        "9            if array[i] < array[min_idx]:\n",
        "10                min_idx = i\n",
        "11         \n",
        "12        # Colocamos el valor min en la posicion correcta\n",
        "13        (array[paso], array[min_idx]) = (array[min_idx], array[paso])\n",
        "\n"
      ],
      "metadata": {
        "id": "anTRqSbIoU6E"
      },
      "execution_count": null,
      "outputs": []
    }
  ],
  "metadata": {
    "colab": {
      "provenance": [],
      "include_colab_link": true
    },
    "gpuClass": "standard",
    "kernelspec": {
      "display_name": "Python 3",
      "name": "python3"
    },
    "language_info": {
      "name": "python"
    },
    "accelerator": "GPU"
  },
  "nbformat": 4,
  "nbformat_minor": 0
}