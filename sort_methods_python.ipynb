{
  "cells": [
    {
      "cell_type": "markdown",
      "metadata": {
        "id": "view-in-github",
        "colab_type": "text"
      },
      "source": [
        "<a href=\"https://colab.research.google.com/github/johcue/computational_complexity-/blob/main/sort_methods_python.ipynb\" target=\"_parent\"><img src=\"https://colab.research.google.com/assets/colab-badge.svg\" alt=\"Open In Colab\"/></a>"
      ]
    },
    {
      "cell_type": "code",
      "execution_count": 2,
      "metadata": {
        "id": "GG3d8Amuben5"
      },
      "outputs": [],
      "source": [
        "import pandas as pd\n",
        "import numpy as np\n",
        "import sys"
      ]
    },
    {
      "cell_type": "code",
      "source": [
        "!pip install ipython-autotime\n",
        "%load_ext autotime"
      ],
      "metadata": {
        "id": "W5A0We3u5_f2",
        "colab": {
          "base_uri": "https://localhost:8080/"
        },
        "outputId": "4b21361b-60c6-4512-e1d5-3b93f6b1c50b"
      },
      "execution_count": null,
      "outputs": [
        {
          "output_type": "stream",
          "name": "stdout",
          "text": [
            "Looking in indexes: https://pypi.org/simple, https://us-python.pkg.dev/colab-wheels/public/simple/\n",
            "Collecting ipython-autotime\n",
            "  Downloading ipython_autotime-0.3.1-py2.py3-none-any.whl (6.8 kB)\n",
            "Requirement already satisfied: ipython in /usr/local/lib/python3.9/dist-packages (from ipython-autotime) (7.34.0)\n",
            "Requirement already satisfied: matplotlib-inline in /usr/local/lib/python3.9/dist-packages (from ipython->ipython-autotime) (0.1.6)\n",
            "Requirement already satisfied: decorator in /usr/local/lib/python3.9/dist-packages (from ipython->ipython-autotime) (4.4.2)\n",
            "Requirement already satisfied: pexpect>4.3 in /usr/local/lib/python3.9/dist-packages (from ipython->ipython-autotime) (4.8.0)\n",
            "Requirement already satisfied: pygments in /usr/local/lib/python3.9/dist-packages (from ipython->ipython-autotime) (2.14.0)\n",
            "Requirement already satisfied: traitlets>=4.2 in /usr/local/lib/python3.9/dist-packages (from ipython->ipython-autotime) (5.7.1)\n",
            "Requirement already satisfied: pickleshare in /usr/local/lib/python3.9/dist-packages (from ipython->ipython-autotime) (0.7.5)\n",
            "Requirement already satisfied: prompt-toolkit!=3.0.0,!=3.0.1,<3.1.0,>=2.0.0 in /usr/local/lib/python3.9/dist-packages (from ipython->ipython-autotime) (3.0.38)\n",
            "Collecting jedi>=0.16\n",
            "  Downloading jedi-0.18.2-py2.py3-none-any.whl (1.6 MB)\n",
            "\u001b[2K     \u001b[90m━━━━━━━━━━━━━━━━━━━━━━━━━━━━━━━━━━━━━━━━\u001b[0m \u001b[32m1.6/1.6 MB\u001b[0m \u001b[31m39.7 MB/s\u001b[0m eta \u001b[36m0:00:00\u001b[0m\n",
            "\u001b[?25hRequirement already satisfied: setuptools>=18.5 in /usr/local/lib/python3.9/dist-packages (from ipython->ipython-autotime) (67.6.1)\n",
            "Requirement already satisfied: backcall in /usr/local/lib/python3.9/dist-packages (from ipython->ipython-autotime) (0.2.0)\n",
            "Requirement already satisfied: parso<0.9.0,>=0.8.0 in /usr/local/lib/python3.9/dist-packages (from jedi>=0.16->ipython->ipython-autotime) (0.8.3)\n",
            "Requirement already satisfied: ptyprocess>=0.5 in /usr/local/lib/python3.9/dist-packages (from pexpect>4.3->ipython->ipython-autotime) (0.7.0)\n",
            "Requirement already satisfied: wcwidth in /usr/local/lib/python3.9/dist-packages (from prompt-toolkit!=3.0.0,!=3.0.1,<3.1.0,>=2.0.0->ipython->ipython-autotime) (0.2.6)\n",
            "Installing collected packages: jedi, ipython-autotime\n",
            "Successfully installed ipython-autotime-0.3.1 jedi-0.18.2\n",
            "time: 446 µs (started: 2023-04-22 22:32:22 +00:00)\n"
          ]
        }
      ]
    },
    {
      "cell_type": "code",
      "source": [
        "# SACAMOS LOS VECTORES\n",
        "a = np.random.randint(0,500000,500000)\n",
        "a = a.astype(int)\n",
        "#np.savetxt(\"num_500e3.csv\", a, delimiter=\",\") "
      ],
      "metadata": {
        "id": "KZZC_ifXPT0J"
      },
      "execution_count": 17,
      "outputs": []
    },
    {
      "cell_type": "code",
      "execution_count": 18,
      "metadata": {
        "id": "Xu-kQtiydDqo",
        "colab": {
          "base_uri": "https://localhost:8080/"
        },
        "outputId": "d248cbbb-e696-435f-924f-2b7408c65844"
      },
      "outputs": [
        {
          "output_type": "stream",
          "name": "stdout",
          "text": [
            "[[1003987 6664807 7463715 ... 9665372 6194840  887679]]\n"
          ]
        }
      ],
      "source": [
        "## Get Data from GITHUB\n",
        "## NO VAYAN A ABRIR LOS CSV, SE PUEDEN TIRAR EL PC\n",
        "from typing_extensions import dataclass_transform\n",
        "df = pd.read_csv('https://raw.githubusercontent.com/johcue/computational_complexity-/main/num_1e6.csv',sep=',')\n",
        "data = df.to_numpy()\n",
        "data = np.transpose(data).astype(int)\n",
        "size = len(data)\n",
        "print(data)"
      ]
    },
    {
      "cell_type": "code",
      "source": [
        "print(np.sort(data))"
      ],
      "metadata": {
        "colab": {
          "base_uri": "https://localhost:8080/"
        },
        "id": "Z2QgzbnILeR5",
        "outputId": "d9ae8122-4b76-474c-ad5e-fb543c926ee6"
      },
      "execution_count": 19,
      "outputs": [
        {
          "output_type": "stream",
          "name": "stdout",
          "text": [
            "[[      0      13      24 ... 9999969 9999988 9999989]]\n"
          ]
        }
      ]
    },
    {
      "cell_type": "code",
      "source": [
        "## REESCRIBIMOS EL TIEMPO DE RECURSION DEFAULT DE PYTHON\n",
        "sys.setrecursionlimit(100000)"
      ],
      "metadata": {
        "id": "6ylp9PpfwS0g",
        "colab": {
          "base_uri": "https://localhost:8080/"
        },
        "outputId": "7bdc4969-705c-42b8-cf6b-8f7281cb049a"
      },
      "execution_count": null,
      "outputs": [
        {
          "output_type": "stream",
          "name": "stdout",
          "text": [
            "time: 355 µs (started: 2023-04-22 21:07:54 +00:00)\n"
          ]
        }
      ]
    },
    {
      "cell_type": "markdown",
      "metadata": {
        "id": "Mh8Tb1uSfgwP"
      },
      "source": [
        "## Selection Sort\n",
        "Selection sort method found [here](https://www.programiz.com/dsa/quick-sort)"
      ]
    },
    {
      "cell_type": "code",
      "execution_count": 20,
      "metadata": {
        "colab": {
          "base_uri": "https://localhost:8080/"
        },
        "id": "By2qj3tKc3x8",
        "outputId": "68f216ac-5243-48e6-a4b6-3372d42cf5e9"
      },
      "outputs": [
        {
          "output_type": "stream",
          "name": "stdout",
          "text": [
            "Sorted Array in Ascending Order:\n",
            "[[1003987 6664807 7463715 ... 9665372 6194840  887679]]\n"
          ]
        }
      ],
      "source": [
        "#Selection Sort\n",
        "def selectionSort(array, size):\n",
        "   \n",
        "    for step in range(size):\n",
        "        min_idx = step\n",
        "        \n",
        "        for i in range(step + 1, size):\n",
        "         \n",
        "            # to sort in descending order, change > to < in this line\n",
        "            # select the minimum element in each loop\n",
        "            if array[i] < array[min_idx]:\n",
        "                min_idx = i\n",
        "         \n",
        "        # put min at the correct position\n",
        "        (array[step], array[min_idx]) = (array[min_idx], array[step])\n",
        "\n",
        "selectionSort(data, size)\n",
        "print('Sorted Array in Ascending Order:')\n",
        "print(data)"
      ]
    },
    {
      "cell_type": "code",
      "execution_count": null,
      "metadata": {
        "colab": {
          "base_uri": "https://localhost:8080/"
        },
        "id": "zctwzH9xdSIa",
        "outputId": "2b8b77f0-0ea5-4917-ca3d-b1f3e351484a"
      },
      "outputs": [
        {
          "output_type": "stream",
          "name": "stdout",
          "text": [
            "time: 995 µs (started: 2023-04-22 21:08:14 +00:00)\n"
          ]
        }
      ],
      "source": [
        "# Quick sort in Python\n",
        "\n",
        "# Function to find the partition position\n",
        "def partition(array, low, high):\n",
        " \n",
        "    # choose the rightmost element as pivot\n",
        "    pivot = array[high]\n",
        " \n",
        "    # pointer for greater element\n",
        "    i = low - 1\n",
        " \n",
        "    # traverse through all elements\n",
        "    # compare each element with pivot\n",
        "    for j in range(low, high):\n",
        "        if array[j] <= pivot:\n",
        " \n",
        "            # If element smaller than pivot is found\n",
        "            # swap it with the greater element pointed by i\n",
        "            i = i + 1\n",
        " \n",
        "            # Swapping element at i with element at j\n",
        "            (array[i], array[j]) = (array[j], array[i])\n",
        " \n",
        "    # Swap the pivot element with the greater element specified by i\n",
        "    (array[i + 1], array[high]) = (array[high], array[i + 1])\n",
        " \n",
        "    # Return the position from where partition is done\n",
        "    return i + 1\n",
        " \n",
        "# function to perform quicksort\n",
        " \n",
        " \n",
        "def quickSort(array, low, high):\n",
        "    if low < high:\n",
        " \n",
        "        # Find pivot element such that\n",
        "        # element smaller than pivot are on the left\n",
        "        # element greater than pivot are on the right\n",
        "        pi = partition(array, low, high)\n",
        " \n",
        "        # Recursive call on the left of pivot\n",
        "        quickSort(array, low, pi - 1)\n",
        " \n",
        "        # Recursive call on the right of pivot\n",
        "        quickSort(array, pi + 1, high) "
      ]
    },
    {
      "cell_type": "code",
      "source": [
        "quickSort(data, 0, size - 1)\n",
        "print('Sorted Array in Ascending Order:')\n",
        "print(data)"
      ],
      "metadata": {
        "id": "CM3qdAI0w17g",
        "colab": {
          "base_uri": "https://localhost:8080/"
        },
        "outputId": "bfdc6459-1ac1-4d35-d35a-ceaf6524a593"
      },
      "execution_count": null,
      "outputs": [
        {
          "output_type": "stream",
          "name": "stdout",
          "text": [
            "Sorted Array in Ascending Order:\n",
            "[   116    183    251 ... 999709 999903 999972]\n",
            "time: 31.6 s (started: 2023-04-22 21:08:20 +00:00)\n"
          ]
        }
      ]
    },
    {
      "cell_type": "code",
      "source": [],
      "metadata": {
        "id": "QBACTlAj7gva"
      },
      "execution_count": null,
      "outputs": []
    }
  ],
  "metadata": {
    "colab": {
      "provenance": [],
      "include_colab_link": true
    },
    "gpuClass": "standard",
    "kernelspec": {
      "display_name": "Python 3",
      "name": "python3"
    },
    "language_info": {
      "name": "python"
    },
    "accelerator": "GPU"
  },
  "nbformat": 4,
  "nbformat_minor": 0
}